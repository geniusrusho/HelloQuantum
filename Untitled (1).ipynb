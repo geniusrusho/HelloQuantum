{
 "cells": [
  {
   "cell_type": "code",
   "execution_count": 1,
   "id": "321484c2-5199-4f94-8a66-768b43fae283",
   "metadata": {},
   "outputs": [],
   "source": [
    "from qiskit import *"
   ]
  },
  {
   "cell_type": "code",
   "execution_count": 2,
   "id": "c5b42450-954e-4dd0-aedf-41115550b58a",
   "metadata": {},
   "outputs": [],
   "source": [
    "circuit = QuantumCircuit(2,2)"
   ]
  },
  {
   "cell_type": "code",
   "execution_count": 3,
   "id": "c18dae86-e5b2-4974-b280-c0e1898cd3a1",
   "metadata": {},
   "outputs": [
    {
     "data": {
      "image/png": "[encoded data removed]",
      "text/plain": [
       "<Figure size 116.552x204.68 with 1 Axes>"
      ]
     },
     "execution_count": 3,
     "metadata": {},
     "output_type": "execute_result"
    }
   ],
   "source": [
    "circuit.draw()"
   ]
  },
  {
   "cell_type": "code",
   "execution_count": 4,
   "id": "57d58e07-5b2c-4ee7-ab2c-90d28828f05d",
   "metadata": {},
   "outputs": [],
   "source": [
    "%matplotlib inline"
   ]
  },
  {
   "cell_type": "code",
   "execution_count": 9,
   "id": "ca51adbe-3158-4d64-ba68-b989468c6f28",
   "metadata": {},
   "outputs": [
    {
     "data": {
      "image/png": "[encoded data removed]",
      "text/plain": [
       "<Figure size 146.652x204.68 with 1 Axes>"
      ]
     },
     "execution_count": 9,
     "metadata": {},
     "output_type": "execute_result"
    }
   ],
   "source": [
    "circuit.h(0)\n",
    "circuit.draw(output='mpl')"
   ]
  },
  {
   "cell_type": "code",
   "execution_count": 12,
   "id": "f93d6601-58b5-4869-956e-13c37819930f",
   "metadata": {},
   "outputs": [
    {
     "data": {
      "image/png": "[encoded data removed]",
      "text/plain": [
       "<Figure size 568.052x204.68 with 1 Axes>"
      ]
     },
     "execution_count": 12,
     "metadata": {},
     "output_type": "execute_result"
    }
   ],
   "source": [
    "circuit.cx(0,1)\n",
    "circuit.measure([0,1],[0,1])\n",
    "circuit.draw(output='mpl')"
   ]
  },
  {
   "cell_type": "code",
   "execution_count": 14,
   "id": "aa3969fe-2cc0-4e16-a11d-25ddab10b755",
   "metadata": {},
   "outputs": [],
   "source": [
    "simulator = Aer.get_backend('qasm_simulator')"
   ]
  },
  {
   "cell_type": "code",
   "execution_count": 16,
   "id": "dd24b127-fd3d-4780-87d4-ccd09a646dd3",
   "metadata": {},
   "outputs": [],
   "source": [
    "result = execute(circuit,backend=simulator).result()"
   ]
  },
  {
   "cell_type": "code",
   "execution_count": 17,
   "id": "486c247d-1cd1-464c-8c28-18c5920be1b4",
   "metadata": {},
   "outputs": [],
   "source": [
    "from qiskit.visualization import plot_histogram\n"
   ]
  },
  {
   "cell_type": "code",
   "execution_count": 18,
   "id": "ec956955-8def-427a-bc47-585644d79f6b",
   "metadata": {},
   "outputs": [
    {
     "data": {
      "image/png": "[encoded data removed]",
      "text/plain": [
       "<Figure size 504x360 with 1 Axes>"
      ]
     },
     "execution_count": 18,
     "metadata": {},
     "output_type": "execute_result"
    }
   ],
   "source": [
    "plot_histogram(result.get_counts(circuit))\n"
   ]
  },
  {
   "cell_type": "code",
   "execution_count": 19,
   "id": "3f5ea52d-0423-4f2d-a9d4-f1a137fa493f",
   "metadata": {},
   "outputs": [
    {
     "data": {
      "text/plain": [
       "<AccountProvider for IBMQ(hub='ibm-q', group='open', project='main')>"
      ]
     },
     "execution_count": 19,
     "metadata": {},
     "output_type": "execute_result"
    }
   ],
   "source": [
    "IBMQ.load_account()"
   ]
  },
  {
   "cell_type": "code",
   "execution_count": 20,
   "id": "c6f94dc9-e165-4575-bd37-63e7d6d1f406",
   "metadata": {},
   "outputs": [],
   "source": [
    "provider = IBMQ.get_provider(\"ibm-q\")"
   ]
  },
  {
   "cell_type": "code",
   "execution_count": 21,
   "id": "78170c63-caa9-49eb-ae16-12dcdfe0dd92",
   "metadata": {},
   "outputs": [],
   "source": [
    "quantum_computer = provider.get_backend('ibmq_lima')"
   ]
  },
  {
   "cell_type": "code",
   "execution_count": 22,
   "id": "22056808-5d7c-40d0-af0c-d524bd7e3abd",
   "metadata": {},
   "outputs": [
    {
     "data": {
      "application/vnd.jupyter.widget-view+json": {
       "model_id": "5069c98ae378441eb884313255efce9e",
       "version_major": 2,
       "version_minor": 0
      },
      "text/plain": [
       "Accordion(children=(VBox(layout=Layout(max_width='710px', min_width='710px')),), layout=Layout(max_height='500…"
      ]
     },
     "metadata": {},
     "output_type": "display_data"
    },
    {
     "data": {
      "application/javascript": [
       "\n",
       "        const isLab = window['Jupyter'] === undefined;\n",
       "        const notebook = document.querySelector( isLab ? 'div.jp-Notebook' : '#site');\n",
       "        const jobWidget = document.querySelector('div.job_widget');\n",
       "        notebook.prepend(jobWidget);\n",
       "        jobWidget.style.zIndex = '999';\n",
       "        jobWidget.style.position = isLab ? 'sticky' : 'fixed';\n",
       "        jobWidget.style.boxShadow = '5px 5px 5px -3px black';\n",
       "        jobWidget.style.opacity = '0.95';\n",
       "        if (isLab) {\n",
       "            jobWidget.style.top = '0';\n",
       "            jobWidget.style.left = '0';\n",
       "        }\n",
       "        "
      ],
      "text/plain": [
       "<IPython.core.display.Javascript object>"
      ]
     },
     "metadata": {},
     "output_type": "display_data"
    }
   ],
   "source": [
    "import qiskit.tools.jupyter\n",
    "%qiskit_job_watcher\n",
    "\n",
    "job = execute(circuit,backend=quantum_computer)"
   ]
  },
  {
   "cell_type": "code",
   "execution_count": null,
   "id": "81a179c2-c1b7-4c18-afc6-d64c36a5744f",
   "metadata": {},
   "outputs": [],
   "source": []
  }
 ],
 "metadata": {
  "kernelspec": {
   "display_name": "Python 3 (ipykernel)",
   "language": "python",
   "name": "python3"
  },
  "language_info": {
   "codemirror_mode": {
    "name": "ipython",
    "version": 3
   },
   "file_extension": ".py",
   "mimetype": "text/x-python",
   "name": "python",
   "nbconvert_exporter": "python",
   "pygments_lexer": "ipython3",
   "version": "3.8.13"
  },
  "widgets": {
   "application/vnd.jupyter.widget-state+json": {
    "state": {
     "022548bdb05c4caca87d435f97da0182": {
      "model_module": "@jupyter-widgets/base",
      "model_module_version": "1.2.0",
      "model_name": "LayoutModel",
      "state": {
       "margin": "0px 0px 10px 0px"
      }
     },
     "09fe09b2822349db82730f3f8a0f5f7b": {
      "model_module": "@jupyter-widgets/base",
      "model_module_version": "1.2.0",
      "model_name": "LayoutModel",
      "state": {
       "margin": "0px 0px 0px 37px",
       "width": "600px"
      }
     },
     "0b8a3ceef87e49e091afdb5844859b77": {
      "model_module": "@jupyter-widgets/base",
      "model_module_version": "1.2.0",
      "model_name": "LayoutModel",
      "state": {
       "width": "70px"
      }
     },
     "0e0fc1df9b324242820d8042cbc4155f": {
      "model_module": "@jupyter-widgets/controls",
      "model_module_version": "1.5.0",
      "model_name": "HTMLModel",
      "state": {
       "layout": "IPY_MODEL_8e47623f0ac948f88b317155b453f551",
       "style": "IPY_MODEL_65da4c6f652e4a6b9e97dcda7204bdc0",
       "value": "63b2aed6d2a97bdc93a30f95"
      }
     },
     "116357f509634ceca841be77218d43ca": {
      "model_module": "@jupyter-widgets/controls",
      "model_module_version": "1.5.0",
      "model_name": "VBoxModel",
      "state": {
       "children": [
        "IPY_MODEL_9ceaab72836543e888d33abbbc6e9519",
        "IPY_MODEL_cbeb587f727e4e95b4e2caeaca956293",
        "IPY_MODEL_53401de17e544de8add1f71cee802879"
       ],
       "layout": "IPY_MODEL_2d2ee1ae9de54f17856881f7218d3a0a"
      }
     },
     "1191f275f8ac49f4b146c74b4b3d744e": {
      "model_module": "@jupyter-widgets/controls",
      "model_module_version": "1.5.0",
      "model_name": "HTMLModel",
      "state": {
       "layout": "IPY_MODEL_f7ed24fccb4a46b4a8365d7241783bdc",
       "style": "IPY_MODEL_400d9afe7c514a76b0b4c35205d5cd7b",
       "value": "ibmq_lima"
      }
     },
     "1458dd03cd1449b4803384cf6bdae6f4": {
      "model_module": "@jupyter-widgets/controls",
      "model_module_version": "1.5.0",
      "model_name": "ButtonModel",
      "state": {
       "button_style": "primary",
       "description": "Clear",
       "layout": "IPY_MODEL_407b989565a644709b9691754ad2d6c2",
       "style": "IPY_MODEL_96f159b2ab6d484786ef5ccacb8d4f3f"
      }
     },
     "1e8a196023874a29977768275c70d99e": {
      "model_module": "@jupyter-widgets/controls",
      "model_module_version": "1.5.0",
      "model_name": "HTMLModel",
      "state": {
       "layout": "IPY_MODEL_5994563cac1843a1852bee62ed3d7bf8",
       "style": "IPY_MODEL_26c88c45fca94872a6854ba219bca2bb",
       "value": "<h5>Status</h5>"
      }
     },
     "219ea7bdda874ed3abd82b4cdf87fdb1": {
      "model_module": "@jupyter-widgets/controls",
      "model_module_version": "1.5.0",
      "model_name": "HTMLModel",
      "state": {
       "layout": "IPY_MODEL_31479c364263430184b5307d08c09822",
       "style": "IPY_MODEL_a4671d5a48004910ae8d19608d53a126",
       "value": "<h5>Backend</h5>"
      }
     },
     "26c88c45fca94872a6854ba219bca2bb": {
      "model_module": "@jupyter-widgets/controls",
      "model_module_version": "1.5.0",
      "model_name": "DescriptionStyleModel",
      "state": {
       "description_width": ""
      }
     },
     "2c5cd8596ea94de69c6b0e66d2bba4c7": {
      "model_module": "@jupyter-widgets/controls",
      "model_module_version": "1.5.0",
      "model_name": "ButtonModel",
      "state": {
       "icon": "close",
       "layout": "IPY_MODEL_fa72562dd1d04fba934fc1fcf8c7ada1",
       "style": "IPY_MODEL_f94bca811e104ebf9e958040e9d978a3"
      }
     },
     "2d2ee1ae9de54f17856881f7218d3a0a": {
      "model_module": "@jupyter-widgets/base",
      "model_module_version": "1.2.0",
      "model_name": "LayoutModel",
      "state": {
       "max_width": "710px",
       "min_width": "710px"
      }
     },
     "2d321c1f6bae483589344a9469dac8d2": {
      "model_module": "@jupyter-widgets/controls",
      "model_module_version": "1.5.0",
      "model_name": "HTMLModel",
      "state": {
       "layout": "IPY_MODEL_022548bdb05c4caca87d435f97da0182",
       "style": "IPY_MODEL_ffc7433f6c9c4c0a90e7edb4695f01bd",
       "value": "<p style='font-family: IBM Plex Sans, Arial, Helvetica, sans-serif; font-size: 20px; font-weight: medium;'>Circuit Properties</p>"
      }
     },
     "31479c364263430184b5307d08c09822": {
      "model_module": "@jupyter-widgets/base",
      "model_module_version": "1.2.0",
      "model_name": "LayoutModel",
      "state": {
       "width": "145px"
      }
     },
     "3ada754d1af64546a9e691af539ce36b": {
      "model_module": "@jupyter-widgets/base",
      "model_module_version": "1.2.0",
      "model_name": "LayoutModel",
      "state": {
       "width": "190px"
      }
     },
     "400d9afe7c514a76b0b4c35205d5cd7b": {
      "model_module": "@jupyter-widgets/controls",
      "model_module_version": "1.5.0",
      "model_name": "DescriptionStyleModel",
      "state": {
       "description_width": ""
      }
     },
     "407b989565a644709b9691754ad2d6c2": {
      "model_module": "@jupyter-widgets/base",
      "model_module_version": "1.2.0",
      "model_name": "LayoutModel",
      "state": {
       "grid_area": "right",
       "padding": "0px 0px 0px 0px",
       "width": "70px"
      }
     },
     "4aff0619d3e541a6b40d79bd69a1502e": {
      "model_module": "@jupyter-widgets/controls",
      "model_module_version": "1.5.0",
      "model_name": "HTMLModel",
      "state": {
       "layout": "IPY_MODEL_0b8a3ceef87e49e091afdb5844859b77",
       "style": "IPY_MODEL_764742113d9c4ae8979a1d11ab579e73",
       "value": "<h5>Queue</h5>"
      }
     },
     "5069c98ae378441eb884313255efce9e": {
      "model_module": "@jupyter-widgets/controls",
      "model_module_version": "1.5.0",
      "model_name": "AccordionModel",
      "state": {
       "_dom_classes": [
        "job_widget"
       ],
       "_titles": {
        "0": "IBMQ Jobs"
       },
       "children": [
        "IPY_MODEL_116357f509634ceca841be77218d43ca"
       ],
       "layout": "IPY_MODEL_81a7229ebad04a5da0028315855413b2",
       "selected_index": null
      }
     },
     "53401de17e544de8add1f71cee802879": {
      "model_module": "@jupyter-widgets/controls",
      "model_module_version": "1.5.0",
      "model_name": "HBoxModel",
      "state": {
       "children": [
        "IPY_MODEL_2c5cd8596ea94de69c6b0e66d2bba4c7",
        "IPY_MODEL_0e0fc1df9b324242820d8042cbc4155f",
        "IPY_MODEL_1191f275f8ac49f4b146c74b4b3d744e",
        "IPY_MODEL_a9a5b81ca99c48778fdfea5254180e9f",
        "IPY_MODEL_5771eeca4ccb49d99b9e934c480a4ed1",
        "IPY_MODEL_a0f76a8b8f0b42839f53989c1be6fb89"
       ],
       "layout": "IPY_MODEL_fc128f0866f44db083277139c341046f"
      }
     },
     "5771eeca4ccb49d99b9e934c480a4ed1": {
      "model_module": "@jupyter-widgets/controls",
      "model_module_version": "1.5.0",
      "model_name": "HTMLModel",
      "state": {
       "layout": "IPY_MODEL_5ea6bf9802ab4fa1a8d20f7e8cd0db91",
       "style": "IPY_MODEL_c50c3c9f3008403a9cccaf3c9de45cce",
       "value": "-"
      }
     },
     "5994563cac1843a1852bee62ed3d7bf8": {
      "model_module": "@jupyter-widgets/base",
      "model_module_version": "1.2.0",
      "model_name": "LayoutModel",
      "state": {
       "width": "95px"
      }
     },
     "5ea6bf9802ab4fa1a8d20f7e8cd0db91": {
      "model_module": "@jupyter-widgets/base",
      "model_module_version": "1.2.0",
      "model_name": "LayoutModel",
      "state": {
       "width": "70px"
      }
     },
     "61d47aaaa90445b79ba28f9d4ad11a3d": {
      "model_module": "@jupyter-widgets/controls",
      "model_module_version": "1.5.0",
      "model_name": "DescriptionStyleModel",
      "state": {
       "description_width": ""
      }
     },
     "61ea4ca83a5e4bab912ab66725e448f4": {
      "model_module": "@jupyter-widgets/base",
      "model_module_version": "1.2.0",
      "model_name": "LayoutModel",
      "state": {}
     },
     "65da4c6f652e4a6b9e97dcda7204bdc0": {
      "model_module": "@jupyter-widgets/controls",
      "model_module_version": "1.5.0",
      "model_name": "DescriptionStyleModel",
      "state": {
       "description_width": ""
      }
     },
     "6f86befb9dd5499cbb35c5ed50571ab4": {
      "model_module": "@jupyter-widgets/base",
      "model_module_version": "1.2.0",
      "model_name": "LayoutModel",
      "state": {
       "grid_template_areas": "\n                                       \". . . . right \"\n                                        ",
       "grid_template_columns": "20% 20% 20% 20% 20%",
       "width": "100%"
      }
     },
     "764742113d9c4ae8979a1d11ab579e73": {
      "model_module": "@jupyter-widgets/controls",
      "model_module_version": "1.5.0",
      "model_name": "DescriptionStyleModel",
      "state": {
       "description_width": ""
      }
     },
     "7e48b7360e454ecb97253a6c31ca6d81": {
      "model_module": "@jupyter-widgets/base",
      "model_module_version": "1.2.0",
      "model_name": "LayoutModel",
      "state": {
       "overflow_x": "scroll"
      }
     },
     "7fe789fe31d54fd9b265099cd0c6d658": {
      "model_module": "@jupyter-widgets/base",
      "model_module_version": "1.2.0",
      "model_name": "LayoutModel",
      "state": {
       "width": "95px"
      }
     },
     "81a7229ebad04a5da0028315855413b2": {
      "model_module": "@jupyter-widgets/base",
      "model_module_version": "1.2.0",
      "model_name": "LayoutModel",
      "state": {
       "max_height": "500px",
       "max_width": "750px",
       "overflow_x": "hidden",
       "overflow_y": "scroll",
       "visibility": "visible",
       "width": "auto"
      }
     },
     "8e47623f0ac948f88b317155b453f551": {
      "model_module": "@jupyter-widgets/base",
      "model_module_version": "1.2.0",
      "model_name": "LayoutModel",
      "state": {
       "width": "190px"
      }
     },
     "96f159b2ab6d484786ef5ccacb8d4f3f": {
      "model_module": "@jupyter-widgets/controls",
      "model_module_version": "1.5.0",
      "model_name": "ButtonStyleModel",
      "state": {}
     },
     "9906c67ea7d04381835e08d9ad4e2fe4": {
      "model_module": "@jupyter-widgets/controls",
      "model_module_version": "1.5.0",
      "model_name": "DescriptionStyleModel",
      "state": {
       "description_width": ""
      }
     },
     "9ceaab72836543e888d33abbbc6e9519": {
      "model_module": "@jupyter-widgets/controls",
      "model_module_version": "1.5.0",
      "model_name": "GridBoxModel",
      "state": {
       "children": [
        "IPY_MODEL_1458dd03cd1449b4803384cf6bdae6f4"
       ],
       "layout": "IPY_MODEL_6f86befb9dd5499cbb35c5ed50571ab4"
      }
     },
     "a0f76a8b8f0b42839f53989c1be6fb89": {
      "model_module": "@jupyter-widgets/controls",
      "model_module_version": "1.5.0",
      "model_name": "HTMLModel",
      "state": {
       "layout": "IPY_MODEL_7e48b7360e454ecb97253a6c31ca6d81",
       "style": "IPY_MODEL_61d47aaaa90445b79ba28f9d4ad11a3d",
       "value": "job is actively running"
      }
     },
     "a4671d5a48004910ae8d19608d53a126": {
      "model_module": "@jupyter-widgets/controls",
      "model_module_version": "1.5.0",
      "model_name": "DescriptionStyleModel",
      "state": {
       "description_width": ""
      }
     },
     "a9a5b81ca99c48778fdfea5254180e9f": {
      "model_module": "@jupyter-widgets/controls",
      "model_module_version": "1.5.0",
      "model_name": "HTMLModel",
      "state": {
       "layout": "IPY_MODEL_7fe789fe31d54fd9b265099cd0c6d658",
       "style": "IPY_MODEL_9906c67ea7d04381835e08d9ad4e2fe4",
       "value": "RUNNING"
      }
     },
     "c248a814fa4f456a820953cacb8f76fb": {
      "model_module": "@jupyter-widgets/controls",
      "model_module_version": "1.5.0",
      "model_name": "HTMLModel",
      "state": {
       "layout": "IPY_MODEL_61ea4ca83a5e4bab912ab66725e448f4",
       "style": "IPY_MODEL_f812810d755f42009d1297484b4c568f",
       "value": "<h5>Message</h5>"
      }
     },
     "c50c3c9f3008403a9cccaf3c9de45cce": {
      "model_module": "@jupyter-widgets/controls",
      "model_module_version": "1.5.0",
      "model_name": "DescriptionStyleModel",
      "state": {
       "description_width": ""
      }
     },
     "c7d2000430ef487081b31cf5a664c102": {
      "model_module": "@jupyter-widgets/controls",
      "model_module_version": "1.5.0",
      "model_name": "DescriptionStyleModel",
      "state": {
       "description_width": ""
      }
     },
     "cbeb587f727e4e95b4e2caeaca956293": {
      "model_module": "@jupyter-widgets/controls",
      "model_module_version": "1.5.0",
      "model_name": "HBoxModel",
      "state": {
       "children": [
        "IPY_MODEL_f36868100da5486ab4cf85cc2b0b8852",
        "IPY_MODEL_219ea7bdda874ed3abd82b4cdf87fdb1",
        "IPY_MODEL_1e8a196023874a29977768275c70d99e",
        "IPY_MODEL_4aff0619d3e541a6b40d79bd69a1502e",
        "IPY_MODEL_c248a814fa4f456a820953cacb8f76fb"
       ],
       "layout": "IPY_MODEL_09fe09b2822349db82730f3f8a0f5f7b"
      }
     },
     "f36868100da5486ab4cf85cc2b0b8852": {
      "model_module": "@jupyter-widgets/controls",
      "model_module_version": "1.5.0",
      "model_name": "HTMLModel",
      "state": {
       "layout": "IPY_MODEL_3ada754d1af64546a9e691af539ce36b",
       "style": "IPY_MODEL_c7d2000430ef487081b31cf5a664c102",
       "value": "<h5>Job ID</h5>"
      }
     },
     "f7ed24fccb4a46b4a8365d7241783bdc": {
      "model_module": "@jupyter-widgets/base",
      "model_module_version": "1.2.0",
      "model_name": "LayoutModel",
      "state": {
       "width": "145px"
      }
     },
     "f812810d755f42009d1297484b4c568f": {
      "model_module": "@jupyter-widgets/controls",
      "model_module_version": "1.5.0",
      "model_name": "DescriptionStyleModel",
      "state": {
       "description_width": ""
      }
     },
     "f94bca811e104ebf9e958040e9d978a3": {
      "model_module": "@jupyter-widgets/controls",
      "model_module_version": "1.5.0",
      "model_name": "ButtonStyleModel",
      "state": {
       "button_color": "white"
      }
     },
     "fa72562dd1d04fba934fc1fcf8c7ada1": {
      "model_module": "@jupyter-widgets/base",
      "model_module_version": "1.2.0",
      "model_name": "LayoutModel",
      "state": {
       "margin": "0px 5px 0px 0px",
       "width": "32px"
      }
     },
     "fc128f0866f44db083277139c341046f": {
      "model_module": "@jupyter-widgets/base",
      "model_module_version": "1.2.0",
      "model_name": "LayoutModel",
      "state": {
       "max_width": "700px",
       "min_width": "700px"
      }
     },
     "ffc7433f6c9c4c0a90e7edb4695f01bd": {
      "model_module": "@jupyter-widgets/controls",
      "model_module_version": "1.5.0",
      "model_name": "DescriptionStyleModel",
      "state": {
       "description_width": ""
      }
     }
    },
    "version_major": 2,
    "version_minor": 0
   }
  }
 },
 "nbformat": 4,
 "nbformat_minor": 5
}
